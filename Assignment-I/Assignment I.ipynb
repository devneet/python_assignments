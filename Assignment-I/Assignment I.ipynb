{
 "cells": [
  {
   "cell_type": "markdown",
   "metadata": {},
   "source": [
    " Question-1 - Write a program which will find all such numbers which are divisible by 7 but are not a multiple\n",
    "of 5, between 2000 and 3200 (both included). The numbers obtained should be printed in a\n",
    "comma-separated sequence on a single line.\n",
    "\n",
    "Solution :"
   ]
  },
  {
   "cell_type": "code",
   "execution_count": 16,
   "metadata": {},
   "outputs": [
    {
     "name": "stdout",
     "output_type": "stream",
     "text": [
      "Enter Upper Range : 3200\n",
      "Enter Lower Range : 2000\n",
      "\n",
      "\n",
      "\n",
      "[2002, 2009, 2016, 2023, 2037, 2044, 2051, 2058, 2072, 2079, 2086, 2093, 2107, 2114, 2121, 2128, 2142, 2149, 2156, 2163, 2177, 2184, 2191, 2198, 2212, 2219, 2226, 2233, 2247, 2254, 2261, 2268, 2282, 2289, 2296, 2303, 2317, 2324, 2331, 2338, 2352, 2359, 2366, 2373, 2387, 2394, 2401, 2408, 2422, 2429, 2436, 2443, 2457, 2464, 2471, 2478, 2492, 2499, 2506, 2513, 2527, 2534, 2541, 2548, 2562, 2569, 2576, 2583, 2597, 2604, 2611, 2618, 2632, 2639, 2646, 2653, 2667, 2674, 2681, 2688, 2702, 2709, 2716, 2723, 2737, 2744, 2751, 2758, 2772, 2779, 2786, 2793, 2807, 2814, 2821, 2828, 2842, 2849, 2856, 2863, 2877, 2884, 2891, 2898, 2912, 2919, 2926, 2933, 2947, 2954, 2961, 2968, 2982, 2989, 2996, 3003, 3017, 3024, 3031, 3038, 3052, 3059, 3066, 3073, 3087, 3094, 3101, 3108, 3122, 3129, 3136, 3143, 3157, 3164, 3171, 3178, 3192, 3199]\n"
     ]
    }
   ],
   "source": [
    "# Get the inputs from the user\n",
    "\n",
    "upper_range=int(input(\"Enter Upper Range : \"))\n",
    "lower_range=int(input(\"Enter Lower Range : \"))\n",
    "\n",
    "# Initialize the variables\n",
    "\n",
    "upper_range=upper_range+1\n",
    "result=[]\n",
    "\n",
    "# Iterate through the loop and determine if the number is not a multiple of 5 and it is divisible by 7\n",
    "\n",
    "for i in range(lower_range,upper_range,1) :\n",
    "\n",
    "    # If the number satisfies the condition, append the current item to the resultant list\n",
    "    \n",
    "    if i%5 != 0 and i%7 == 0 :\n",
    "        \n",
    "        result.append(i)\n",
    "    \n",
    "    # If the number doesn't satisfies the condition, skip the current iteration\n",
    "    \n",
    "    else :\n",
    "    \n",
    "        continue\n",
    "\n",
    "# Print out the resultant list\n",
    "\n",
    "print(\"\\n\"*2)\n",
    "print(result)\n"
   ]
  },
  {
   "cell_type": "markdown",
   "metadata": {},
   "source": [
    "Question-2 - Write a Python program to accept the user's first and last name and then getting them printed in\n",
    "the reverse order with a space between first name and last name.\n",
    "\n",
    "Solution :"
   ]
  },
  {
   "cell_type": "code",
   "execution_count": 21,
   "metadata": {},
   "outputs": [
    {
     "name": "stdout",
     "output_type": "stream",
     "text": [
      "Please Enter Your First Name : Devneet\n",
      "Please Enter Your Last Name : Mohanty\n",
      "\n",
      "\n",
      "Reversed Name : ytnahoM teenveD\n"
     ]
    }
   ],
   "source": [
    "# Get the inputs from the user\n",
    "\n",
    "first_name = input(\"Please Enter Your First Name : \")\n",
    "last_name = input(\"Please Enter Your Last Name : \")\n",
    "\n",
    "# Reverse the name and print out the result\n",
    "\n",
    "print(\"\\n\"*2+\"Reversed Name : \"+last_name[::-1]+\" \"+first_name[::-1])"
   ]
  },
  {
   "cell_type": "markdown",
   "metadata": {},
   "source": [
    "Question-3 - Write a Python program to find the volume of a sphere with diameter 12 cm. Formula: V=4/3 * π * r ^ 3\n",
    "\n",
    "Solution :"
   ]
  },
  {
   "cell_type": "code",
   "execution_count": 25,
   "metadata": {},
   "outputs": [
    {
     "name": "stdout",
     "output_type": "stream",
     "text": [
      "12\n",
      "\n",
      "\n",
      "Volume of the sphere with the diameter as 12 cm is calculated to be : 904.7786842338603\n"
     ]
    }
   ],
   "source": [
    "#Import the Math library in order to get the value of Pi\n",
    "\n",
    "import math\n",
    "\n",
    "# Get the inputs from the user\n",
    "\n",
    "diameter=int(input())\n",
    "\n",
    "# Calculate the volume based on the formula\n",
    "\n",
    "volume = (4/3)*math.pi*(diameter/2)**3\n",
    "\n",
    "# Print out the resultant volume\n",
    "\n",
    "print(\"\\n\"*2+\"Volume of the sphere with the diameter as \"+str(diameter)+\" cm is calculated to be : \"+str(volume))"
   ]
  },
  {
   "cell_type": "markdown",
   "metadata": {},
   "source": [
    "Question-4 - Write a program which accepts a sequence of comma-separated numbers from console and\n",
    "generate a list.\n",
    "\n",
    "Solution :"
   ]
  },
  {
   "cell_type": "code",
   "execution_count": 94,
   "metadata": {},
   "outputs": [
    {
     "name": "stdout",
     "output_type": "stream",
     "text": [
      "1,12,1234,56\n",
      "\n",
      "\n",
      "The resultant list sequence is : \n",
      "[1, 12, 1234, 56]\n"
     ]
    }
   ],
   "source": [
    "# Get the inputs from the user\n",
    "\n",
    "input_value = input()\n",
    "\n",
    "# Initialize the variables\n",
    "\n",
    "count = 0\n",
    "result=[]\n",
    "temp=''\n",
    "\n",
    "# Loop through the input value and validate if commas are present\n",
    "\n",
    "for i in input_value :\n",
    "    \n",
    "    # If comma is present, increment the count for commas\n",
    "    \n",
    "    if i == ',' :\n",
    "    \n",
    "        count=count+1\n",
    "\n",
    "\n",
    "# If the counter value is zero, print out the error message\n",
    "\n",
    "if count ==  0 :\n",
    "    \n",
    "    print(\"Invalid input ! The input must contain comma separated values.\")\n",
    "\n",
    "# If the counter value is greater than zero, loop through the input value \n",
    "# in order to determine the items to be added to the resultant list\n",
    "\n",
    "else :\n",
    "    \n",
    "    # Iterate through the input value\n",
    "    \n",
    "    for j in range(0,len(input_value)) :\n",
    "        \n",
    "        # If the current character in the input value, consists of comma\n",
    "        # or if it is the final character, append to the resultant list\n",
    "        \n",
    "        if input_value[j] == ',' or j == len(input_value)-1:\n",
    "            \n",
    "            # If the current character is the final character in the input value,\n",
    "            # append the values after the last comma to the temporary string\n",
    "            \n",
    "            if j == len(input_value)-1 :\n",
    "                \n",
    "                temp=temp+input_value[j]\n",
    "            \n",
    "            # Type cast the temporary string to Integer and append it to the resultant\n",
    "            # list\n",
    "            \n",
    "            result.append(int(temp))\n",
    "            temp=''\n",
    "        \n",
    "        # If the input value, doesn't consists of comma, append the values after the last\n",
    "        # comma to the temporary string\n",
    "        \n",
    "        elif input_value[j] != ',' :\n",
    "            \n",
    "            temp=temp+input_value[j]\n",
    "            \n",
    "   # Print out the resultant list\n",
    "\n",
    "    print(\"\\n\"*2+\"The resultant list sequence is : \")\n",
    "    print(result)  \n",
    "    \n",
    "    "
   ]
  },
  {
   "cell_type": "markdown",
   "metadata": {},
   "source": [
    "Alternate Solution :"
   ]
  },
  {
   "cell_type": "code",
   "execution_count": 54,
   "metadata": {},
   "outputs": [
    {
     "name": "stdout",
     "output_type": "stream",
     "text": [
      "1,12,122,1234\n",
      "\n",
      "\n",
      "The resultant list sequence is : \n",
      "[1, 12, 122, 1234]\n"
     ]
    }
   ],
   "source": [
    "# Get the inputs from the user\n",
    "\n",
    "input_value = input\n",
    "\n",
    "# Initialize the variables\n",
    "\n",
    "count = 0\n",
    "result=[]\n",
    "temp=[]\n",
    "\n",
    "# Loop through the input value and validate if commas are present\n",
    "\n",
    "for i in input_value :\n",
    "    \n",
    "    # If comma is present, increment the count for commas\n",
    "    \n",
    "    if i == ',' :\n",
    "    \n",
    "        count=count+1\n",
    "\n",
    "# If the counter value is zero, print out the error message\n",
    "\n",
    "if count ==  0 :\n",
    "    \n",
    "    print(\"Invalid input ! The input must contain comma separated values.\")\n",
    "\n",
    "# If the counter value is greater than zero, split the input value with the\n",
    "# comma separator and the iterate through the input value to type cast each\n",
    "# of it's element to Integer type\n",
    "\n",
    "else :\n",
    "    \n",
    "    temp = input_value.split(',')\n",
    "    \n",
    "    # Loop through the temporary list to type cast each of it's item to Integer type\n",
    "    # and add it to the resulatant list\n",
    "    \n",
    "    for i in temp :\n",
    "        \n",
    "        result.append(int(i))\n",
    "            \n",
    "    # Print out the resultant list\n",
    "    \n",
    "    print(\"\\n\"*2+\"The resultant list sequence is : \")\n",
    "    print(result)  "
   ]
  },
  {
   "attachments": {
    "image.png": {
     "image/png": "[encoded data removed]"
    }
   },
   "cell_type": "markdown",
   "metadata": {},
   "source": [
    "Question-5 - Create the below pattern using nested for loop in Python\n",
    "![image.png](attachment:image.png)\n",
    "Solution :"
   ]
  },
  {
   "cell_type": "code",
   "execution_count": 93,
   "metadata": {},
   "outputs": [
    {
     "name": "stdout",
     "output_type": "stream",
     "text": [
      "Enter The Maximum Number Of Rows : 9\n",
      "\n",
      "\n",
      "The resultant pattern looks like below : \n",
      "\n",
      "\n",
      " *\n",
      "\n",
      " * *\n",
      "\n",
      " * * *\n",
      "\n",
      " * * * *\n",
      "\n",
      " * * * * *\n",
      "\n",
      " * * * *\n",
      "\n",
      " * * *\n",
      "\n",
      " * *\n",
      "\n",
      " *\n",
      "\n"
     ]
    }
   ],
   "source": [
    "# Get The Maximum Rows\n",
    "\n",
    "row_limit = int(input(\"Enter The Maximum Number Of Rows : \" ))\n",
    "\n",
    "# Print New Line\n",
    "\n",
    "print(\"\\n\"*2 + \"The resultant pattern looks like below : \" + \"\\n\"*2)\n",
    "\n",
    "# Loop till the maximum rows to create individual rows\n",
    "\n",
    "for row_counter in range(0,row_limit) :\n",
    "    \n",
    "    # If the current row count is within the first half of the values of maximum rows,\n",
    "    # create the upper pyramid pattern\n",
    "    \n",
    "    if row_counter <= round(row_limit/2) :\n",
    "        \n",
    "        for column_counter_positive in range(0,row_counter+1) :\n",
    "        \n",
    "            print(\" *\",end=\"\")\n",
    "    \n",
    "    # If the current row count is within the second half of the values of maximum rows,\n",
    "    # create the lower pyramid pattern\n",
    "    \n",
    "    else :\n",
    "            \n",
    "        for column_counter_negative in range(0,row_limit-row_counter) :\n",
    "            \n",
    "            print(\" *\",end=\"\")\n",
    "    \n",
    "    # Print a new line for each row\n",
    "    \n",
    "    print(\"\\n\")\n",
    "    \n"
   ]
  },
  {
   "cell_type": "markdown",
   "metadata": {},
   "source": [
    "Question-6 - Write a Python program to reverse a word after accepting the input from the user.\n",
    "\n",
    "Solution : "
   ]
  },
  {
   "cell_type": "code",
   "execution_count": 95,
   "metadata": {},
   "outputs": [
    {
     "name": "stdout",
     "output_type": "stream",
     "text": [
      "Please Enter The Word To Be Reversed : AcadGild\n",
      "\n",
      "\n",
      "Reversed Word : dliGdacA\n"
     ]
    }
   ],
   "source": [
    "# Get the inputs from the user\n",
    "\n",
    "word = input(\"Please Enter The Word To Be Reversed : \")\n",
    "\n",
    "# Reverse the word and print out the result\n",
    "\n",
    "print(\"\\n\"*2+\"Reversed Word : \"+word[::-1])"
   ]
  },
  {
   "attachments": {
    "image.png": {
     "image/png": "[encoded data removed]"
    }
   },
   "cell_type": "markdown",
   "metadata": {},
   "source": [
    "Question-7 - Write a Python Program to print the given string in the format specified in the sample output.\n",
    "\n",
    "\n",
    "WE, THE PEOPLE OF INDIA, having solemnly resolved to constitute India into a\n",
    "SOVEREIGN, SOCIALIST, SECULAR, DEMOCRATIC REPUBLIC and to secure to all\n",
    "its citizens\n",
    "\n",
    "\n",
    "\n",
    "![image.png](attachment:image.png)\n",
    "\n",
    "\n",
    "Solution :"
   ]
  },
  {
   "cell_type": "code",
   "execution_count": 98,
   "metadata": {},
   "outputs": [
    {
     "name": "stdout",
     "output_type": "stream",
     "text": [
      "WE, THE PEOPLE OF INDIA,\n",
      "\thaving solemnly resolved to constitute India into a SOVEREIGN, !\n",
      "\t\tSOCIALIST, SECULAR, DEMOCRATIC REPUBLIC\n",
      "\t\tand to secure to all its citizens\n"
     ]
    }
   ],
   "source": [
    "# Print out the resultant message\n",
    "\n",
    "print (\"WE, THE PEOPLE OF INDIA,\"+\"\\n\\t\"+\"having solemnly resolved to constitute India into a SOVEREIGN, !\"+\"\\n\\t\\t\"\n",
    "       +\"SOCIALIST, SECULAR, DEMOCRATIC REPUBLIC\"+\"\\n\\t\\t\"+\"and to secure to all its citizens\")\n"
   ]
  },
  {
   "cell_type": "code",
   "execution_count": null,
   "metadata": {},
   "outputs": [],
   "source": []
  }
 ],
 "metadata": {
  "kernelspec": {
   "display_name": "Python 3",
   "language": "python",
   "name": "python3"
  },
  "language_info": {
   "codemirror_mode": {
    "name": "ipython",
    "version": 3
   },
   "file_extension": ".py",
   "mimetype": "text/x-python",
   "name": "python",
   "nbconvert_exporter": "python",
   "pygments_lexer": "ipython3",
   "version": "3.7.6"
  }
 },
 "nbformat": 4,
 "nbformat_minor": 4
}
